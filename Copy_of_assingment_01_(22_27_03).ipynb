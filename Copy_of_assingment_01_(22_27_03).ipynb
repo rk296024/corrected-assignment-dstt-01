{
  "nbformat": 4,
  "nbformat_minor": 0,
  "metadata": {
    "colab": {
      "provenance": []
    },
    "kernelspec": {
      "name": "python3",
      "display_name": "Python 3"
    },
    "language_info": {
      "name": "python"
    }
  },
  "cells": [
    {
      "cell_type": "markdown",
      "source": [
        "NAME : RAHUL KUMAR | Reg .no: 22-27-03  |  Branch : Data science | Department : SoCE&**Ds**"
      ],
      "metadata": {
        "id": "ePvnowxf0Y32"
      }
    },
    {
      "cell_type": "code",
      "source": [
        "# question 01 / code \n",
        "#NAME : RAHUL KUMAR | Reg .no: 22-27-03  |  Branch : Data science | Department : SoCs&Ds\n",
        "n=int(input(\"enter the no of element in list\"))\n",
        "list1=[]\n",
        "for i in range (n):\n",
        "   list1.append(int(input()))\n",
        "print(list1)\n",
        "\n",
        "list2= list1[::-1]\n",
        "#list2= list1.reverse()\n",
        "print(list2)\n",
        "list3=[]\n",
        "\n",
        "for j in range (0 ,len(list1)):\n",
        "   list3.append(list1[j]*list2[j])\n",
        "                \n",
        "\n",
        "print(\"dot product of list and its reverse = \\n\" , list3)"
      ],
      "metadata": {
        "colab": {
          "base_uri": "https://localhost:8080/"
        },
        "id": "lZMNIu3d0o4t",
        "outputId": "e75873be-e69d-45c8-da2a-4d4cf5f021ac"
      },
      "execution_count": null,
      "outputs": [
        {
          "output_type": "stream",
          "name": "stdout",
          "text": [
            "enter the no of element in list5\n",
            "1\n",
            "3\n",
            "5\n",
            "3\n",
            "6\n",
            "[1, 3, 5, 3, 6]\n",
            "[6, 3, 5, 3, 1]\n",
            "dot product of list and its reverse = \n",
            " [6, 9, 25, 9, 6]\n"
          ]
        }
      ]
    },
    {
      "cell_type": "code",
      "source": [
        "# question 02 / code \n",
        "#NAME : RAHUL KUMAR | Reg .no: 22-27-03  |  Branch : Data science | Department : SoCs&Ds\n",
        "n=int(input(\"enter the no of element in list\"))\n",
        "list1=[]\n",
        "for i in range (n):\n",
        "   list1.append(int(input()))\n",
        "print(\"list before sortig \" ,list1)\n",
        "#sorting the list\n",
        "list1.sort()\n",
        "#printing sorted list\n",
        "print(\"list after sortig \" ,list1)\n",
        "print(\"second minimum = \" , list1[1] )\n",
        "print(\"second maximum =\" , list1[n-2])"
      ],
      "metadata": {
        "colab": {
          "base_uri": "https://localhost:8080/"
        },
        "id": "vY-vSTsO1Fn1",
        "outputId": "b580447e-a631-491a-95b2-ac1f94678b1c"
      },
      "execution_count": null,
      "outputs": [
        {
          "output_type": "stream",
          "name": "stdout",
          "text": [
            "enter the no of element in list5\n",
            "85\n",
            "12\n",
            "2\n",
            "36\n",
            "8\n",
            "list before sortig  [85, 12, 2, 36, 8]\n",
            "list after sortig  [2, 8, 12, 36, 85]\n",
            "second minimum =  8\n",
            "second maximum = 36\n"
          ]
        }
      ]
    },
    {
      "cell_type": "code",
      "source": [
        "# question 03 / code \n",
        "#NAME : RAHUL KUMAR | Reg .no: 22-27-03  |  Branch : Data science | Department : SoCs&Ds\n",
        "n=int(input(\"enter the no of element in list\"))\n",
        "list1=[]\n",
        "for i in range (n):\n",
        "   list1.append(int(input()))\n",
        "print(\"input list\",list1)\n",
        "list2=[]\n",
        "for item in list1:\n",
        "  if(item%5!=0):\n",
        "    list2.append(item)\n",
        "# list after removing multiple of 5 \n",
        "print(\"updated list\" ,list2)"
      ],
      "metadata": {
        "colab": {
          "base_uri": "https://localhost:8080/"
        },
        "id": "AjtmePtj1Tmk",
        "outputId": "0d35be66-1e73-4d61-d3d7-344c97ca3148"
      },
      "execution_count": null,
      "outputs": [
        {
          "output_type": "stream",
          "name": "stdout",
          "text": [
            "enter the no of element in list5\n",
            "15\n",
            "23\n",
            "96\n",
            "56\n",
            "55\n",
            "input list [15, 23, 96, 56, 55]\n",
            "updated list [23, 96, 56]\n"
          ]
        }
      ]
    },
    {
      "cell_type": "code",
      "source": [
        "# question 04 / code \n",
        "#NAME : RAHUL KUMAR | Reg .no: 22-27-03  |  Branch : Data science | Department : SoCs&Ds\n",
        "print(\"give binary input 0's or 1's\")\n",
        "n=int(input(\"enter the no of element in list\"))\n",
        "list1=[]\n",
        "for i in range (n):\n",
        "   list1.append(int(input()))\n",
        "if ((list1.count(0) or list1.count(1)) == 1 ):\n",
        "  print(\"yes\")\n",
        "else:\n",
        "  print(\"no\")"
      ],
      "metadata": {
        "colab": {
          "base_uri": "https://localhost:8080/"
        },
        "id": "ZJP8ZnWk1hpQ",
        "outputId": "b0ff0503-8f21-4053-c6b3-e7105e67e6e6"
      },
      "execution_count": null,
      "outputs": [
        {
          "output_type": "stream",
          "name": "stdout",
          "text": [
            "give binary input 0's or 1's\n",
            "enter the no of element in list5\n",
            "0\n",
            "1\n",
            "0\n",
            "1\n",
            "1\n",
            "no\n"
          ]
        }
      ]
    },
    {
      "cell_type": "code",
      "source": [
        "# question 05 / code \n",
        "#NAME : RAHUL KUMAR | Reg .no: 22-27-03  |  Branch : Data science | Department : SoCs&Ds\n",
        "num=int(input(\"enter the no of element to find  factorial \"))\n",
        "def factorial(n):\n",
        "  if (n==1 or n==0):\n",
        "    return 1\n",
        "  else:\n",
        "    return (n*factorial(n-1))\n",
        "\n",
        "result= factorial(num)\n",
        "print(f\"factorial {num}! =\" , result)"
      ],
      "metadata": {
        "colab": {
          "base_uri": "https://localhost:8080/"
        },
        "id": "BOSvZAbu1lTP",
        "outputId": "bc2658e9-d50a-4aa6-c158-f709d7fe1a98"
      },
      "execution_count": null,
      "outputs": [
        {
          "output_type": "stream",
          "name": "stdout",
          "text": [
            "enter the no of element to find  factorial 5\n",
            "factorial 5! = 120\n"
          ]
        }
      ]
    },
    {
      "cell_type": "code",
      "source": [
        "# question 06 / code \n",
        "#NAME : RAHUL KUMAR | Reg .no: 22-27-03  |  Branch : Data science | Department : SoCs&Ds\n",
        "print(\"enter range of two number  N and M\")\n",
        "n=int(input())\n",
        "m=int(input())\n",
        "list1=[]\n",
        "for i in range (n , m+1):\n",
        "  if (i%2==0):\n",
        "    list1.append(i)\n",
        "print(list1)"
      ],
      "metadata": {
        "colab": {
          "base_uri": "https://localhost:8080/"
        },
        "id": "p1ZPuQwq1p4J",
        "outputId": "22ce3804-fa32-434e-f2ed-efafb38fa534"
      },
      "execution_count": null,
      "outputs": [
        {
          "output_type": "stream",
          "name": "stdout",
          "text": [
            "enter range of two number  N and M\n",
            "56\n",
            "89\n",
            "[56, 58, 60, 62, 64, 66, 68, 70, 72, 74, 76, 78, 80, 82, 84, 86, 88]\n"
          ]
        }
      ]
    }
  ]
}